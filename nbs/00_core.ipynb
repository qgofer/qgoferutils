{
 "cells": [
  {
   "cell_type": "markdown",
   "metadata": {},
   "source": [
    "# core\n",
    "\n",
    "> Utility functions used within the project"
   ]
  },
  {
   "cell_type": "code",
   "execution_count": null,
   "metadata": {},
   "outputs": [],
   "source": [
    "# | default_exp core"
   ]
  },
  {
   "cell_type": "code",
   "execution_count": null,
   "metadata": {},
   "outputs": [],
   "source": [
    "# | hide\n",
    "import nbdev\n",
    "# | hide\n",
    "from nbdev.showdoc import *"
   ]
  },
  {
   "cell_type": "code",
   "execution_count": null,
   "metadata": {},
   "outputs": [],
   "source": [
    "# | export\n",
    "import base64\n",
    "import os\n",
    "import uuid\n",
    "from pathlib import Path\n",
    "from typing import Optional"
   ]
  },
  {
   "cell_type": "code",
   "execution_count": null,
   "metadata": {},
   "outputs": [
    {
     "name": "stdout",
     "output_type": "stream",
     "text": [
      "Requirement already satisfied: orjson in c:\\users\\acqua\\miniconda3\\envs\\qgoferutils\\lib\\site-packages (3.9.15)\n"
     ]
    }
   ],
   "source": [
    "# | hide\n",
    "!pip install orjson"
   ]
  },
  {
   "cell_type": "code",
   "execution_count": null,
   "metadata": {},
   "outputs": [
    {
     "name": "stdout",
     "output_type": "stream",
     "text": [
      "Requirement already satisfied: requests in c:\\users\\acqua\\miniconda3\\envs\\qgoferutils\\lib\\site-packages (2.31.0)\n",
      "Requirement already satisfied: charset-normalizer<4,>=2 in c:\\users\\acqua\\miniconda3\\envs\\qgoferutils\\lib\\site-packages (from requests) (3.3.2)\n",
      "Requirement already satisfied: idna<4,>=2.5 in c:\\users\\acqua\\miniconda3\\envs\\qgoferutils\\lib\\site-packages (from requests) (3.6)\n",
      "Requirement already satisfied: urllib3<3,>=1.21.1 in c:\\users\\acqua\\miniconda3\\envs\\qgoferutils\\lib\\site-packages (from requests) (2.2.1)\n",
      "Requirement already satisfied: certifi>=2017.4.17 in c:\\users\\acqua\\miniconda3\\envs\\qgoferutils\\lib\\site-packages (from requests) (2024.2.2)\n"
     ]
    }
   ],
   "source": [
    "# | hide\n",
    "!pip install requests"
   ]
  },
  {
   "cell_type": "code",
   "execution_count": null,
   "metadata": {},
   "outputs": [],
   "source": [
    "# | export\n",
    "\n",
    "\n",
    "def get_env_var(var_name: str, default=None):\n",
    "    \"\"\"\n",
    "    Returns the value of an environment variable if it exists,\n",
    "    otherwise returns the default value.\n",
    "    \"\"\"\n",
    "    try:\n",
    "        return os.environ[var_name]\n",
    "    except KeyError:\n",
    "        return default"
   ]
  },
  {
   "cell_type": "code",
   "execution_count": null,
   "metadata": {},
   "outputs": [],
   "source": [
    "# | export\n",
    "\n",
    "\n",
    "def generate_uuid():\n",
    "    \"\"\"Generates a uuid 4 string\n",
    "    Returns:\n",
    "        an ascii friendly uuid4 string.\n",
    "    \"\"\"\n",
    "    return base64.urlsafe_b64encode(uuid.uuid4().bytes).rstrip(b\"=\").decode(\"ascii\")"
   ]
  },
  {
   "cell_type": "code",
   "execution_count": null,
   "metadata": {},
   "outputs": [],
   "source": [
    "# | export\n",
    "\n",
    "\n",
    "def init_path(path: Optional[Path] = None) -> Path:\n",
    "    \"\"\"Convert the string to a path object.\"\"\"\n",
    "    if path is None:\n",
    "        return Path.home()\n",
    "    return Path(path).expanduser().resolve()"
   ]
  },
  {
   "cell_type": "code",
   "execution_count": null,
   "metadata": {},
   "outputs": [],
   "source": [
    "# | export\n",
    "VIDEO = (\n",
    "    \".m1v\",\n",
    "    \".mpeg\",\n",
    "    \".mov\",\n",
    "    \".qt\",\n",
    "    \".mpa\",\n",
    "    \".mpg\",\n",
    "    \".mpe\",\n",
    "    \".avi\",\n",
    "    \".movie\",\n",
    "    \".mp4\",\n",
    ")\n",
    "\n",
    "AUDIO = (\".ra\", \".aif\", \".aiff\", \".aifc\", \".wav\", \".au\", \".snd\", \".mp3\", \".mp2\")\n",
    "\n",
    "IMAGE = (\n",
    "    \".ras\",\n",
    "    \".xwd\",\n",
    "    \".bmp\",\n",
    "    \".jpe\",\n",
    "    \".jpg\",\n",
    "    \".jpeg\",\n",
    "    \".xpm\",\n",
    "    \".ief\",\n",
    "    \".pbm\",\n",
    "    \".tif\",\n",
    "    \".gif\",\n",
    "    \".ppm\",\n",
    "    \".xbm\",\n",
    "    \".tiff\",\n",
    "    \".rgb\",\n",
    "    \".pgm\",\n",
    "    \".png\",\n",
    "    \".pnm\",\n",
    ")"
   ]
  },
  {
   "cell_type": "code",
   "execution_count": null,
   "metadata": {},
   "outputs": [],
   "source": [
    "# | export\n",
    "folders_to_index = [\n",
    "    \"Documents\",\n",
    "    \"Downloads\",\n",
    "    \"Desktop\",\n",
    "    \"Music\",\n",
    "    \"Videos\",\n",
    "    \"Pictures\",\n",
    "    \"Movies\",\n",
    "    \"OneDrive\",\n",
    "    \"Dropbox\",\n",
    "    \"Google Drive\",\n",
    "]"
   ]
  },
  {
   "cell_type": "code",
   "execution_count": null,
   "metadata": {},
   "outputs": [],
   "source": [
    "#| hide\n",
    "nbdev.nbdev_export()"
   ]
  },
  {
   "cell_type": "code",
   "execution_count": null,
   "metadata": {},
   "outputs": [],
   "source": []
  }
 ],
 "metadata": {
  "kernelspec": {
   "display_name": "python3",
   "language": "python",
   "name": "python3"
  }
 },
 "nbformat": 4,
 "nbformat_minor": 4
}
