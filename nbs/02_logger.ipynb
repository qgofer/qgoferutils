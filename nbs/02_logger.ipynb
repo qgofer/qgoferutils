{
 "cells": [
  {
   "cell_type": "markdown",
   "metadata": {},
   "source": [
    "# logger\n",
    "\n",
    "> This module provides logging functionality for qgoferutils"
   ]
  },
  {
   "cell_type": "code",
   "execution_count": 35,
   "metadata": {},
   "outputs": [],
   "source": [
    "#| default_exp logger"
   ]
  },
  {
   "cell_type": "code",
   "execution_count": 7,
   "metadata": {},
   "outputs": [],
   "source": [
    "#| hide\n",
    "from nbdev.showdoc import *"
   ]
  },
  {
   "cell_type": "code",
   "execution_count": 8,
   "metadata": {},
   "outputs": [
    {
     "name": "stdout",
     "output_type": "stream",
     "text": [
      "Requirement already satisfied: orjson in /opt/miniconda3/envs/qgoferutils/lib/python3.12/site-packages (3.9.10)\n",
      "Note: you may need to restart the kernel to use updated packages.\n",
      "Requirement already satisfied: requests in /opt/miniconda3/envs/qgoferutils/lib/python3.12/site-packages (2.31.0)\n",
      "Requirement already satisfied: charset-normalizer<4,>=2 in /opt/miniconda3/envs/qgoferutils/lib/python3.12/site-packages (from requests) (2.0.4)\n",
      "Requirement already satisfied: idna<4,>=2.5 in /opt/miniconda3/envs/qgoferutils/lib/python3.12/site-packages (from requests) (3.4)\n",
      "Requirement already satisfied: urllib3<3,>=1.21.1 in /opt/miniconda3/envs/qgoferutils/lib/python3.12/site-packages (from requests) (2.1.0)\n",
      "Requirement already satisfied: certifi>=2017.4.17 in /opt/miniconda3/envs/qgoferutils/lib/python3.12/site-packages (from requests) (2024.2.2)\n",
      "Note: you may need to restart the kernel to use updated packages.\n"
     ]
    }
   ],
   "source": [
    "#| hide\n",
    "%run 00_core.ipynb"
   ]
  },
  {
   "cell_type": "code",
   "execution_count": 9,
   "metadata": {},
   "outputs": [],
   "source": [
    "#| export\n",
    "import logging\n",
    "import sys\n",
    "from pathlib import Path\n",
    "from typing import Optional\n",
    "from datetime import datetime\n",
    "try:\n",
    "    from .core import init_path\n",
    "    from .core import generate_uuid\n",
    "except:\n",
    "    pass"
   ]
  },
  {
   "cell_type": "code",
   "execution_count": 10,
   "metadata": {},
   "outputs": [],
   "source": [
    "#| export\n",
    "def get_log_path(path: Optional[Path] = None) -> Path:\n",
    "    \"\"\"Returns the log path.\"\"\"\n",
    "    if path is None:\n",
    "        path = init_path(path) / '.qgofer' / 'logs'\n",
    "        path.mkdir(parents=True, exist_ok=True)\n",
    "    return Path(path).expanduser().resolve()"
   ]
  },
  {
   "cell_type": "code",
   "execution_count": 13,
   "metadata": {},
   "outputs": [],
   "source": [
    "#| export\n",
    "def get_logger(log_path=None, run_id=None) -> logging.Logger:\n",
    "    \"\"\"Returns a generic logger for logging relevant information pertaining to run of qgofer.\n",
    "\n",
    "    Returns:\n",
    "        Python logger object\n",
    "    \"\"\"\n",
    "    log_path = get_log_path(log_path)\n",
    "    logger = logging.getLogger(\"qgofer\")\n",
    "    logger.setLevel(logging.DEBUG)\n",
    "\n",
    "    if not run_id:\n",
    "        run_id = generate_uuid()\n",
    "\n",
    "    file_path = f\"{log_path}/{run_id}_log_{datetime.now().strftime('%y_%m_%d_%H_%M_%S')}.log\"\n",
    "    if not logger.handlers:\n",
    "        # create file handler which logs even debug messages\n",
    "        fh = logging.FileHandler(file_path)\n",
    "        fh.setLevel(logging.DEBUG)\n",
    "        # create console handler with a higher log level\n",
    "        ch = logging.StreamHandler(stream=sys.stdout)\n",
    "        ch.setLevel(logging.DEBUG)\n",
    "\n",
    "        # create formatter and add it to the handlers\n",
    "        formatter = logging.Formatter(\"%(asctime)s - %(name)s - %(levelname)s - %(message)s\")\n",
    "        fh.setFormatter(formatter)\n",
    "        ch.setFormatter(formatter)\n",
    "\n",
    "        # add the handlers to the logger\n",
    "        logger.addHandler(fh)\n",
    "        logger.addHandler(ch)\n",
    "        logger.info(f\"Logging to {file_path}\")\n",
    "\n",
    "    return logger"
   ]
  },
  {
   "cell_type": "code",
   "execution_count": 12,
   "metadata": {},
   "outputs": [],
   "source": [
    "#| hide\n",
    "import nbdev; nbdev.nbdev_export()"
   ]
  },
  {
   "cell_type": "code",
   "execution_count": null,
   "metadata": {},
   "outputs": [],
   "source": []
  }
 ],
 "metadata": {
  "kernelspec": {
   "display_name": "Python 3 (ipykernel)",
   "language": "python",
   "name": "python3"
  },
  "language_info": {
   "codemirror_mode": {
    "name": "ipython",
    "version": 3
   },
   "file_extension": ".py",
   "mimetype": "text/x-python",
   "name": "python",
   "nbconvert_exporter": "python",
   "pygments_lexer": "ipython3",
   "version": "3.9.18"
  }
 },
 "nbformat": 4,
 "nbformat_minor": 4
}
