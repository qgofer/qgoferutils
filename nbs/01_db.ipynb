{
 "cells": [
  {
   "cell_type": "markdown",
   "metadata": {},
   "source": [
    "# db\n",
    "\n",
    "> This module provides a wrapper for interating with SQLite Database(Chosen datastore for qgofer)"
   ]
  },
  {
   "cell_type": "code",
   "execution_count": 1,
   "metadata": {},
   "outputs": [],
   "source": [
    "#| default_exp db"
   ]
  },
  {
   "cell_type": "code",
   "execution_count": 2,
   "metadata": {},
   "outputs": [],
   "source": [
    "#| hide\n",
    "from nbdev.showdoc import *"
   ]
  },
  {
   "cell_type": "code",
   "execution_count": 3,
   "metadata": {},
   "outputs": [],
   "source": [
    "#| export\n",
    "import sqlite3"
   ]
  },
  {
   "cell_type": "code",
   "execution_count": 4,
   "metadata": {},
   "outputs": [],
   "source": [
    "#| export\n",
    "\n",
    "class QGoferDBWrapper:\n",
    "    def __init__(self, db_path):\n",
    "        self.db_path = db_path\n",
    "        self.conn = sqlite3.connect(db_path)\n",
    "        self.cursor = self.conn.cursor()\n",
    "\n",
    "    def create_table(self, table_name, columns):\n",
    "        \"\"\"\n",
    "        Create a table in the database\n",
    "        :param table_name: name of the table to create\n",
    "        :param columns: list of columns to create wih their data type\n",
    "        :return: None\n",
    "        \"\"\"\n",
    "        self.cursor.execute(f\"CREATE TABLE IF NOT EXISTS {table_name} ({columns})\")\n",
    "        self.conn.commit()\n",
    "\n",
    "    def insert(self, table_name, columns, values):\n",
    "        \"\"\"\n",
    "        Insert a row into the database\n",
    "        :param table_name: name of the table to insert into\n",
    "        :param columns: list of columns to insert into\n",
    "        :param values: list of values to insert into the table\n",
    "        :return: None\n",
    "        \"\"\"\n",
    "        sql = f\"INSERT INTO {table_name} ({columns}) VALUES ({values})\"\n",
    "        print(sql)\n",
    "        self.cursor.execute(sql)\n",
    "        self.conn.commit()\n",
    "\n",
    "    def insert_many(self, table_name, columns, values):\n",
    "        \"\"\"\n",
    "        Insert multiple rows into the database\n",
    "        :param table_name: name of the table to insert into\n",
    "        :param columns: list of columns to insert into\n",
    "        :param values: list of values to insert into the table\n",
    "        :return: None\n",
    "        \"\"\"\n",
    "        self.cursor.executemany(f\"INSERT INTO {table_name} ({columns}) VALUES ({values})\", values)\n",
    "        self.conn.commit()\n",
    "\n",
    "    def select(self, table_name, columns, where=None):\n",
    "        \"\"\"\n",
    "        Select rows from the database\n",
    "        :param table_name: name of the table to select from\n",
    "        :param columns: list of columns to select\n",
    "        :param where: where clause to filter rows\n",
    "        :return: list of rows\n",
    "        \"\"\"\n",
    "        if where is None:\n",
    "            self.cursor.execute(f\"SELECT ({columns}) FROM {table_name}\")\n",
    "        else:\n",
    "            self.cursor.execute(f\"SELECT ({columns}) FROM {table_name} WHERE {where}\")\n",
    "        return self.cursor.fetchall()\n",
    "\n",
    "    def search(self, table_name, column_name, q):\n",
    "        \"\"\"\n",
    "        Search rows from the database\n",
    "        :param table_name: name of the table to search from\n",
    "        :param column_name: name of the column to search\n",
    "        :param q: search query\n",
    "        :return: list of rows\n",
    "        \"\"\"\n",
    "        self.cursor.execute(f\"SELECT * FROM {table_name} WHERE {column_name} LIKE '%{q}%'\")\n",
    "        return self.cursor.fetchall()\n",
    "\n",
    "    def update(self, table_name, set_clause, where):\n",
    "        \"\"\"\n",
    "        Update rows in the database\n",
    "        :param table_name: name of the table to update\n",
    "        :param set_clause: set clause to update rows\n",
    "        :param where: where clause to filter rows\n",
    "        :return: None\n",
    "        \"\"\"\n",
    "        self.cursor.execute(f\"UPDATE {table_name} SET {set_clause} WHERE {where}\")\n",
    "        self.conn.commit()\n",
    "\n",
    "    def delete(self, table_name, where):\n",
    "        \"\"\"\n",
    "        Delete rows from the database\n",
    "        :param table_name: name of the table to delete from\n",
    "        :param where: where clause to filter rows\n",
    "        :return: None\n",
    "        \"\"\"\n",
    "        self.cursor.execute(f\"DELETE FROM {table_name} WHERE {where}\")\n",
    "        self.conn.commit()\n",
    "\n",
    "    def drop_table(self, table_name):\n",
    "        \"\"\"\n",
    "        Drop a table from the database\n",
    "        :param table_name: name of the table to drop\n",
    "        :return: None\n",
    "        \"\"\"\n",
    "        self.cursor.execute(f\"DROP TABLE IF EXISTS {table_name}\")\n",
    "        self.conn.commit()\n",
    "\n"
   ]
  },
  {
   "cell_type": "code",
   "execution_count": 5,
   "metadata": {},
   "outputs": [],
   "source": [
    "#| hide\n",
    "import nbdev; nbdev.nbdev_export()"
   ]
  },
  {
   "cell_type": "code",
   "execution_count": null,
   "metadata": {},
   "outputs": [],
   "source": []
  }
 ],
 "metadata": {
  "kernelspec": {
   "display_name": "Python 3 (ipykernel)",
   "language": "python",
   "name": "python3"
  },
  "language_info": {
   "codemirror_mode": {
    "name": "ipython",
    "version": 3
   },
   "file_extension": ".py",
   "mimetype": "text/x-python",
   "name": "python",
   "nbconvert_exporter": "python",
   "pygments_lexer": "ipython3",
   "version": "3.9.18"
  }
 },
 "nbformat": 4,
 "nbformat_minor": 4
}
