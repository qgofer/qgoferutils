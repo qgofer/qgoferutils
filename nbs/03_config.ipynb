{
 "cells": [
  {
   "cell_type": "markdown",
   "metadata": {},
   "source": []
  },
  {
   "cell_type": "markdown",
   "metadata": {},
   "source": [
    "# config\n",
    "\n",
    "> This module provides the core config class for qgofer"
   ]
  },
  {
   "cell_type": "code",
   "execution_count": 9,
   "metadata": {},
   "outputs": [],
   "source": [
    "#| default_exp config"
   ]
  },
  {
   "cell_type": "code",
   "execution_count": 1,
   "metadata": {},
   "outputs": [
    {
     "name": "stdout",
     "output_type": "stream",
     "text": [
      "Requirement already satisfied: black in /opt/miniconda3/envs/qgoferutils/lib/python3.12/site-packages (23.11.0)\n",
      "Requirement already satisfied: click>=8.0.0 in /opt/miniconda3/envs/qgoferutils/lib/python3.12/site-packages (from black) (8.1.7)\n",
      "Requirement already satisfied: mypy-extensions>=0.4.3 in /opt/miniconda3/envs/qgoferutils/lib/python3.12/site-packages (from black) (1.0.0)\n",
      "Requirement already satisfied: packaging>=22.0 in /opt/miniconda3/envs/qgoferutils/lib/python3.12/site-packages (from black) (23.1)\n",
      "Requirement already satisfied: pathspec>=0.9.0 in /opt/miniconda3/envs/qgoferutils/lib/python3.12/site-packages (from black) (0.10.3)\n",
      "Requirement already satisfied: platformdirs>=2 in /opt/miniconda3/envs/qgoferutils/lib/python3.12/site-packages (from black) (3.10.0)\n",
      "Note: you may need to restart the kernel to use updated packages.\n"
     ]
    }
   ],
   "source": [
    "%pip install black"
   ]
  },
  {
   "cell_type": "code",
   "execution_count": 2,
   "metadata": {},
   "outputs": [],
   "source": [
    "#| hide\n",
    "from nbdev.showdoc import *"
   ]
  },
  {
   "cell_type": "code",
   "execution_count": 4,
   "metadata": {},
   "outputs": [
    {
     "name": "stdout",
     "output_type": "stream",
     "text": [
      "Requirement already satisfied: orjson in /opt/miniconda3/envs/qgoferutils/lib/python3.12/site-packages (3.9.10)\n",
      "Note: you may need to restart the kernel to use updated packages.\n",
      "Requirement already satisfied: requests in /opt/miniconda3/envs/qgoferutils/lib/python3.12/site-packages (2.31.0)\n",
      "Requirement already satisfied: charset-normalizer<4,>=2 in /opt/miniconda3/envs/qgoferutils/lib/python3.12/site-packages (from requests) (2.0.4)\n",
      "Requirement already satisfied: idna<4,>=2.5 in /opt/miniconda3/envs/qgoferutils/lib/python3.12/site-packages (from requests) (3.4)\n",
      "Requirement already satisfied: urllib3<3,>=1.21.1 in /opt/miniconda3/envs/qgoferutils/lib/python3.12/site-packages (from requests) (2.1.0)\n",
      "Requirement already satisfied: certifi>=2017.4.17 in /opt/miniconda3/envs/qgoferutils/lib/python3.12/site-packages (from requests) (2024.2.2)\n",
      "Note: you may need to restart the kernel to use updated packages.\n",
      "Requirement already satisfied: orjson in /opt/miniconda3/envs/qgoferutils/lib/python3.12/site-packages (3.9.10)\n",
      "Note: you may need to restart the kernel to use updated packages.\n",
      "Requirement already satisfied: requests in /opt/miniconda3/envs/qgoferutils/lib/python3.12/site-packages (2.31.0)\n",
      "Requirement already satisfied: charset-normalizer<4,>=2 in /opt/miniconda3/envs/qgoferutils/lib/python3.12/site-packages (from requests) (2.0.4)\n",
      "Requirement already satisfied: idna<4,>=2.5 in /opt/miniconda3/envs/qgoferutils/lib/python3.12/site-packages (from requests) (3.4)\n",
      "Requirement already satisfied: urllib3<3,>=1.21.1 in /opt/miniconda3/envs/qgoferutils/lib/python3.12/site-packages (from requests) (2.1.0)\n",
      "Requirement already satisfied: certifi>=2017.4.17 in /opt/miniconda3/envs/qgoferutils/lib/python3.12/site-packages (from requests) (2024.2.2)\n",
      "Note: you may need to restart the kernel to use updated packages.\n"
     ]
    }
   ],
   "source": [
    "#| hide\n",
    "%run 00_core.ipynb\n",
    "%run 02_logger.ipynb\n",
    "import sys\n",
    "sys.path.append(\"..\")"
   ]
  },
  {
   "cell_type": "code",
   "execution_count": 5,
   "metadata": {},
   "outputs": [],
   "source": [
    "#| export\n",
    "from __future__ import annotations\n",
    "import shutil\n",
    "from typing import Dict, Any\n",
    "from pathlib import Path"
   ]
  },
  {
   "cell_type": "code",
   "execution_count": 6,
   "metadata": {},
   "outputs": [],
   "source": [
    "#| export \n",
    "try:\n",
    "    from qgoferutils.logger import get_log_path, get_logger\n",
    "except:\n",
    "    pass"
   ]
  },
  {
   "cell_type": "code",
   "execution_count": 12,
   "metadata": {},
   "outputs": [],
   "source": [
    "#| export\n",
    "\n",
    "\n",
    "log_path = get_log_path()\n",
    "logger = get_logger(log_path=log_path)\n",
    "\n",
    "\n",
    "class QGoferConfig:\n",
    "    \"\"\"The main appliation class for managing the entirety of qgofer.\n",
    "\n",
    "    Attributes:\n",
    "        home: The home directory of the user, defaults to Path.home()\n",
    "        root_dir: The root directory to index, defaults to Path.home()\n",
    "    \"\"\"\n",
    "\n",
    "    __slots__ = (\n",
    "        \"_home\",\n",
    "        \"_root_dir\",\n",
    "        \"_qgofer\",\n",
    "        \"_qgofer_config\",\n",
    "        \"_qgofer_cache\",\n",
    "        \"_qgofer_cache_db\",\n",
    "        \"_qgofer_logs\",\n",
    "    )\n",
    "    _instances: Dict[Any, Any] = {}\n",
    "\n",
    "    def __new__(cls, home, root_dir) -> QGoferConfig:\n",
    "        \"\"\"Create a new instance of the class. by using the singleton pattern.\"\"\"\n",
    "        if cls not in cls._instances:\n",
    "            cls._instances[cls] = super(App, cls).__new__(cls)\n",
    "        return cls._instances[cls]\n",
    "\n",
    "    def __init__(self, home: Path = Path.home(), root_dir: Path = Path.home()):\n",
    "        \"\"\"Initialize the class. using home and root_dir as the home and root directory of qgofer.\"\"\"\n",
    "        self._home = home\n",
    "        self._root_dir = root_dir\n",
    "        self._qgofer = self._home / '.qgofer'\n",
    "        self._qgofer.mkdir(parents=True, exist_ok=True)\n",
    "        self._qgofer_config = self._qgofer / 'config.toml'\n",
    "        self._qgofer_config.touch(exist_ok=True)\n",
    "        self._qgofer_cache = self._qgofer / 'cache'\n",
    "        self._qgofer_cache.mkdir(parents=True, exist_ok=True)\n",
    "        self._qgofer_cache_db = self._qgofer_cache / 'qgofer.db'\n",
    "        self._qgofer_cache_db.touch(exist_ok=True)\n",
    "        self._qgofer_logs = self._qgofer / 'logs'\n",
    "        self._qgofer_logs.mkdir(parents=True, exist_ok=True)\n",
    "\n",
    "    @property\n",
    "    def home(self) -> Path:\n",
    "        \"\"\"Return the home directory of the user.\"\"\"\n",
    "        return self._home\n",
    "\n",
    "    @property\n",
    "    def qgofer(self) -> Path:\n",
    "        \"\"\"Return the qgofer directory.\"\"\"\n",
    "        return self._qgofer\n",
    "\n",
    "    @property\n",
    "    def qgofer_config(self) -> Path:\n",
    "        \"\"\"Return the qgofer config file.\"\"\"\n",
    "        return self._qgofer_config\n",
    "\n",
    "    @property\n",
    "    def qgofer_cache(self) -> Path:\n",
    "        \"\"\"Return the qgofer cache directory.\"\"\"\n",
    "        return self._qgofer_cache\n",
    "\n",
    "    @property\n",
    "    def qgofer_cache_db(self) -> Path:\n",
    "        \"\"\"Return the qgofer cache database.\"\"\"\n",
    "        return self._qgofer_cache_db\n",
    "\n",
    "    def _clear_cache_db(self) -> None:\n",
    "        \"\"\"Clear the qgofer cache database.\"\"\"\n",
    "        qgofer_db_wrapper = QGoferDBWrapper(self.qgofer_cache_db)\n",
    "        try:\n",
    "            os.remove(self.qgofer_cache_db)\n",
    "        except FileNotFoundError as err:\n",
    "            logger.error(err)\n",
    "\n",
    "    def clear_cache(self) -> None:\n",
    "        \"\"\"Clears the cache folder\"\"\"\n",
    "        try:\n",
    "            shutil.rmtree(self._qgofer_cache)\n",
    "        except OSError as err:\n",
    "            logger.error(err)\n",
    "        self._clear_cache_db()\n",
    "\n",
    "    def clear_logs(self) -> None:\n",
    "        \"\"\"This function clears the logs folder\n",
    "        \"\"\"\n",
    "        try:\n",
    "            shutil.rmtree(self._qgofer_logs)\n",
    "            self._qgofer_logs.mkdir(parents=True, exist_ok=True)\n",
    "        except OSError as err:\n",
    "            logger.error(err)\n",
    "\n",
    "    def __repr__(self) -> str:\n",
    "        \"\"\"Return the representation of the class.\"\"\"\n",
    "        return f\"{self.__class__.__name__}({self.home})\"\n",
    "\n",
    "    def __str__(self) -> str:\n",
    "        \"\"\"Return the string representation of the class.\"\"\"\n",
    "        return \"Qgofer your personal assistant\""
   ]
  },
  {
   "cell_type": "code",
   "execution_count": 10,
   "metadata": {},
   "outputs": [],
   "source": [
    "#| hide\n",
    "import nbdev; nbdev.nbdev_export()"
   ]
  },
  {
   "cell_type": "code",
   "execution_count": null,
   "metadata": {},
   "outputs": [],
   "source": []
  }
 ],
 "metadata": {
  "kernelspec": {
   "display_name": "Python 3 (ipykernel)",
   "language": "python",
   "name": "python3"
  },
  "language_info": {
   "codemirror_mode": {
    "name": "ipython",
    "version": 3
   },
   "file_extension": ".py",
   "mimetype": "text/x-python",
   "name": "python",
   "nbconvert_exporter": "python",
   "pygments_lexer": "ipython3",
   "version": "3.9.18"
  }
 },
 "nbformat": 4,
 "nbformat_minor": 4
}
