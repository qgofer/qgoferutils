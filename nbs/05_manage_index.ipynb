{
 "cells": [
  {
   "cell_type": "markdown",
   "metadata": {},
   "source": [
    "# requests\n",
    "\n",
    "> This module provides a wrapper for interating with SQLite Database(Chosen datastore for qgofer)"
   ]
  },
  {
   "cell_type": "code",
   "execution_count": null,
   "metadata": {},
   "outputs": [],
   "source": [
    "# | default_exp manage_index"
   ]
  },
  {
   "cell_type": "code",
   "execution_count": null,
   "metadata": {},
   "outputs": [],
   "source": [
    "# | hide\n",
    "import nbdev\n",
    "from nbdev.showdoc import *"
   ]
  },
  {
   "cell_type": "code",
   "execution_count": null,
   "metadata": {},
   "outputs": [],
   "source": [
    "# | export\n",
    "import os\n",
    "from asyncio import run as async_run\n",
    "from pathlib import Path\n",
    "from typing import Any, AsyncGenerator, Generator\n",
    "\n",
    "\n",
    "import aiofiles\n",
    "\n",
    "try:\n",
    "    from qgoferutils.core import folders_to_index, VIDEO, AUDIO, IMAGE\n",
    "    from qgoferutils.config import QGoferConfig\n",
    "    from qgoferutils.db import QGoferDBWrapper\n",
    "except:\n",
    "    pass\n"
   ]
  },
  {
   "cell_type": "code",
   "execution_count": null,
   "metadata": {},
   "outputs": [
    {
     "name": "stdout",
     "output_type": "stream",
     "text": [
      "Requirement already satisfied: orjson in c:\\users\\acqua\\miniconda3\\envs\\qgoferutils\\lib\\site-packages (3.9.15)\n",
      "Requirement already satisfied: requests in c:\\users\\acqua\\miniconda3\\envs\\qgoferutils\\lib\\site-packages (2.31.0)\n",
      "Requirement already satisfied: charset-normalizer<4,>=2 in c:\\users\\acqua\\miniconda3\\envs\\qgoferutils\\lib\\site-packages (from requests) (3.3.2)\n",
      "Requirement already satisfied: idna<4,>=2.5 in c:\\users\\acqua\\miniconda3\\envs\\qgoferutils\\lib\\site-packages (from requests) (3.6)\n",
      "Requirement already satisfied: urllib3<3,>=1.21.1 in c:\\users\\acqua\\miniconda3\\envs\\qgoferutils\\lib\\site-packages (from requests) (2.2.1)\n",
      "Requirement already satisfied: certifi>=2017.4.17 in c:\\users\\acqua\\miniconda3\\envs\\qgoferutils\\lib\\site-packages (from requests) (2024.2.2)\n",
      "Requirement already satisfied: black in c:\\users\\acqua\\miniconda3\\envs\\qgoferutils\\lib\\site-packages (24.2.0)\n",
      "Requirement already satisfied: click>=8.0.0 in c:\\users\\acqua\\miniconda3\\envs\\qgoferutils\\lib\\site-packages (from black) (8.1.7)\n",
      "Requirement already satisfied: mypy-extensions>=0.4.3 in c:\\users\\acqua\\miniconda3\\envs\\qgoferutils\\lib\\site-packages (from black) (1.0.0)\n",
      "Requirement already satisfied: packaging>=22.0 in c:\\users\\acqua\\miniconda3\\envs\\qgoferutils\\lib\\site-packages (from black) (23.2)\n",
      "Requirement already satisfied: pathspec>=0.9.0 in c:\\users\\acqua\\miniconda3\\envs\\qgoferutils\\lib\\site-packages (from black) (0.12.1)\n",
      "Requirement already satisfied: platformdirs>=2 in c:\\users\\acqua\\miniconda3\\envs\\qgoferutils\\lib\\site-packages (from black) (4.2.0)\n",
      "Requirement already satisfied: tomli>=1.1.0 in c:\\users\\acqua\\miniconda3\\envs\\qgoferutils\\lib\\site-packages (from black) (2.0.1)\n",
      "Requirement already satisfied: typing-extensions>=4.0.1 in c:\\users\\acqua\\miniconda3\\envs\\qgoferutils\\lib\\site-packages (from black) (4.10.0)\n",
      "Requirement already satisfied: colorama in c:\\users\\acqua\\miniconda3\\envs\\qgoferutils\\lib\\site-packages (from click>=8.0.0->black) (0.4.6)\n",
      "Requirement already satisfied: orjson in c:\\users\\acqua\\miniconda3\\envs\\qgoferutils\\lib\\site-packages (3.9.15)\n",
      "Requirement already satisfied: requests in c:\\users\\acqua\\miniconda3\\envs\\qgoferutils\\lib\\site-packages (2.31.0)\n",
      "Requirement already satisfied: charset-normalizer<4,>=2 in c:\\users\\acqua\\miniconda3\\envs\\qgoferutils\\lib\\site-packages (from requests) (3.3.2)\n",
      "Requirement already satisfied: idna<4,>=2.5 in c:\\users\\acqua\\miniconda3\\envs\\qgoferutils\\lib\\site-packages (from requests) (3.6)\n",
      "Requirement already satisfied: urllib3<3,>=1.21.1 in c:\\users\\acqua\\miniconda3\\envs\\qgoferutils\\lib\\site-packages (from requests) (2.2.1)\n",
      "Requirement already satisfied: certifi>=2017.4.17 in c:\\users\\acqua\\miniconda3\\envs\\qgoferutils\\lib\\site-packages (from requests) (2024.2.2)\n",
      "Requirement already satisfied: orjson in c:\\users\\acqua\\miniconda3\\envs\\qgoferutils\\lib\\site-packages (3.9.15)\n",
      "Requirement already satisfied: requests in c:\\users\\acqua\\miniconda3\\envs\\qgoferutils\\lib\\site-packages (2.31.0)\n",
      "Requirement already satisfied: charset-normalizer<4,>=2 in c:\\users\\acqua\\miniconda3\\envs\\qgoferutils\\lib\\site-packages (from requests) (3.3.2)\n",
      "Requirement already satisfied: idna<4,>=2.5 in c:\\users\\acqua\\miniconda3\\envs\\qgoferutils\\lib\\site-packages (from requests) (3.6)\n",
      "Requirement already satisfied: urllib3<3,>=1.21.1 in c:\\users\\acqua\\miniconda3\\envs\\qgoferutils\\lib\\site-packages (from requests) (2.2.1)\n",
      "Requirement already satisfied: certifi>=2017.4.17 in c:\\users\\acqua\\miniconda3\\envs\\qgoferutils\\lib\\site-packages (from requests) (2024.2.2)\n",
      "2024-03-07 22:18:02,267 - qgofer - INFO - Logging to C:\\Users\\acqua\\.qgofer\\logs/913G7k-OQIWfXAZnpF8b7g_log_24_03_07_22_18_02.log\n",
      "IntegrityError occurred: UNIQUE constraint failed: qgofer_config.key\n"
     ]
    }
   ],
   "source": [
    "%run 00_core.ipynb\n",
    "%run 03_config.ipynb\n",
    "%run 01_db.ipynb"
   ]
  },
  {
   "cell_type": "code",
   "execution_count": null,
   "metadata": {},
   "outputs": [],
   "source": [
    "# | export\n",
    "\n",
    "Q = QGoferConfig()\n",
    "CACHE_TABLE = \"qgofer_cache\"\n",
    "INDEX_LIST = \"inde_list.txt\""
   ]
  },
  {
   "cell_type": "code",
   "execution_count": null,
   "metadata": {},
   "outputs": [
    {
     "name": "stdout",
     "output_type": "stream",
     "text": [
      "Requirement already satisfied: aiofiles in c:\\users\\acqua\\miniconda3\\envs\\qgoferutils\\lib\\site-packages (23.2.1)\n"
     ]
    }
   ],
   "source": [
    "!pip install aiofiles"
   ]
  },
  {
   "cell_type": "code",
   "execution_count": null,
   "metadata": {},
   "outputs": [],
   "source": [
    "# | export\n",
    "\n",
    "\n",
    "def index_folders(\n",
    "    path: Path, data_type: str = \"document\"\n",
    ") -> Generator[Path, None, None]:\n",
    "    \"\"\"Index the folder.\"\"\"\n",
    "    path = Path(path).expanduser().resolve()\n",
    "    try:\n",
    "        for item in path.iterdir():\n",
    "            if item.name.startswith(\".\"):\n",
    "                continue\n",
    "            if item.is_dir():\n",
    "                if item.name in folders_to_index:\n",
    "                    yield from index_folders(item, data_type)\n",
    "            elif item.is_file():\n",
    "                if data_type == \"document\":\n",
    "                    if item.suffix not in (VIDEO + AUDIO + IMAGE):\n",
    "                        yield item\n",
    "                elif data_type == \"video\":\n",
    "                    if item.suffix in VIDEO:\n",
    "                        yield item\n",
    "                elif data_type == \"audio\":\n",
    "                    if item.suffix in AUDIO:\n",
    "                        yield item\n",
    "                elif data_type == \"image\":\n",
    "                    if item.suffix in IMAGE:\n",
    "                        yield item\n",
    "                else:\n",
    "                    Q.logger.info(f\"Item with suffix: {item.suffix} is not supported.\")\n",
    "    except (PermissionError, FileNotFoundError) as err:\n",
    "        Q.logger.error(err)"
   ]
  },
  {
   "cell_type": "code",
   "execution_count": null,
   "metadata": {},
   "outputs": [],
   "source": [
    "# | export\n",
    "\n",
    "\n",
    "def create_index_list(path: Path) -> None:\n",
    "    \"\"\"Index the folders.\"\"\"\n",
    "    # A list to be populated with async tasks.\n",
    "    if path:\n",
    "        index_path = path\n",
    "    else:\n",
    "        index_path = Q.root_dir\n",
    "    for item in index_folders(index_path):\n",
    "        with open(Q.qgofer_cache / INDEX_LIST, \"a\", encoding=\"utf-8\") as f:\n",
    "            f.write(f\"{item}\\n\")"
   ]
  },
  {
   "cell_type": "code",
   "execution_count": null,
   "metadata": {},
   "outputs": [],
   "source": [
    "# | export\n",
    "\n",
    "\n",
    "def create_qgofer_cache() -> None:\n",
    "    \"\"\"Create the qgofer documents cache database.\"\"\"\n",
    "    qgofer_db_wrapper = QGoferDBWrapper(Q.qgofer_cache_db)\n",
    "    qgofer_db_wrapper.create_table(\n",
    "        f\"{CACHE_TABLE}\",\n",
    "        \"a_time REAL,m_time REAL,c_time REAL,file_size REAL,file TEXT UNIQUE\",\n",
    "    )\n",
    "\n",
    "\n",
    "def clear_cache_table() -> None:\n",
    "    \"\"\"Clear the qgofer cache database.\"\"\"\n",
    "    qgofer_db_wrapper = QGoferDBWrapper(Q.qgofer_cache_db)\n",
    "    qgofer_db_wrapper.drop_table(f\"{CACHE_TABLE}\")"
   ]
  },
  {
   "cell_type": "code",
   "execution_count": null,
   "metadata": {},
   "outputs": [],
   "source": [
    "# | export\n",
    "\n",
    "\n",
    "# TODO: Clean up this function\n",
    "def process_index_list():\n",
    "    \"\"\"Process the index list.\"\"\"\n",
    "\n",
    "    async def _read_index_list() -> AsyncGenerator[Path, None]:\n",
    "        \"\"\"Read the index list.\"\"\"\n",
    "        async with aiofiles.open(\n",
    "            Q.qgofer_cache / \"inde_list.txt\", \"r\", encoding=\"utf-8\"\n",
    "        ) as f:\n",
    "            async for line in f:\n",
    "                yield Path(line.strip())\n",
    "\n",
    "    async def _process_files() -> AsyncGenerator[tuple[str, Path], None]:\n",
    "        \"\"\"Process the index list.\"\"\"\n",
    "        async for item in _read_index_list():\n",
    "            yield item\n",
    "\n",
    "    async def _gen_meta() -> (\n",
    "        AsyncGenerator[tuple[Any, float, float, float, int, Path], None]\n",
    "    ):\n",
    "        \"\"\"Generate the meta data.\"\"\"\n",
    "        async for file in _process_files():\n",
    "            a_time = os.path.getatime(file)\n",
    "            m_time = os.path.getmtime(file)\n",
    "            c_time = os.path.getctime(file)\n",
    "            file_size = os.path.getsize(file)\n",
    "            yield a_time, m_time, c_time, file_size, file\n",
    "\n",
    "    async def _process_meta() -> None:\n",
    "        \"\"\"Process the meta data.\"\"\"\n",
    "        async for a_time, m_time, c_time, file_size, file in _gen_meta():\n",
    "            qgofer_db_wrapper = QGoferDBWrapper(Q.qgofer_cache_db)\n",
    "\n",
    "            try:\n",
    "                qgofer_db_wrapper.insert(\n",
    "                    CACHE_TABLE,\n",
    "                    \"a_time, m_time, c_time, file_size, file\",\n",
    "                    f\"{a_time}, {m_time}, {c_time}, {file_size}, '{file}'\",\n",
    "                )\n",
    "            except Exception as err:\n",
    "                Q.logger.error(err)\n",
    "            # need to save file name and other meta data at least\n",
    "            Q.logger.info(\"************ Indexing Meta Data ************\")\n",
    "\n",
    "    async_run(_process_meta())"
   ]
  },
  {
   "cell_type": "code",
   "execution_count": null,
   "metadata": {},
   "outputs": [],
   "source": [
    "# | export\n",
    "\n",
    "\n",
    "def destroy_index_list() -> None:\n",
    "    try:\n",
    "        os.remove(Q.qgofer_cache / INDEX_LIST)\n",
    "    except OSError:\n",
    "        pass"
   ]
  },
  {
   "cell_type": "code",
   "execution_count": null,
   "metadata": {},
   "outputs": [],
   "source": [
    "create_index_list(r\"C:\\Users\\acqua\\OneDrive\\Documents\\Books\")"
   ]
  },
  {
   "cell_type": "code",
   "execution_count": null,
   "metadata": {},
   "outputs": [],
   "source": [
    "create_qgofer_cache()"
   ]
  },
  {
   "cell_type": "code",
   "execution_count": null,
   "metadata": {},
   "outputs": [],
   "source": [
    "destroy_index_list()"
   ]
  },
  {
   "cell_type": "code",
   "execution_count": null,
   "metadata": {},
   "outputs": [],
   "source": [
    "#| hide\n",
    "nbdev.nbdev_export()"
   ]
  },
  {
   "cell_type": "code",
   "execution_count": null,
   "metadata": {},
   "outputs": [],
   "source": []
  }
 ],
 "metadata": {
  "kernelspec": {
   "display_name": "python3",
   "language": "python",
   "name": "python3"
  }
 },
 "nbformat": 4,
 "nbformat_minor": 4
}
