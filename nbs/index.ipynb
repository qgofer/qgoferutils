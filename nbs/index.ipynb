{
 "cells": [
  {
   "cell_type": "markdown",
   "metadata": {},
   "source": [
    "# qgoferutils\n",
    "\n",
    "> Utility functions that cut across most qgofer projects "
   ]
  },
  {
   "cell_type": "markdown",
   "metadata": {},
   "source": [
    "## Install"
   ]
  },
  {
   "cell_type": "markdown",
   "metadata": {},
   "source": [
    "```sh\n",
    "pip install qgoferutils\n",
    "```"
   ]
  },
  {
   "cell_type": "markdown",
   "metadata": {},
   "source": [
    "### Or"
   ]
  },
  {
   "cell_type": "markdown",
   "metadata": {},
   "source": [
    "```sh\n",
    "conda install qgofer::qgoferutils\n",
    "```"
   ]
  },
  {
   "cell_type": "markdown",
   "metadata": {},
   "source": [
    "### Available classes in qgoferutils are:\n",
    "\n",
    "- Configuration Module"
   ]
  },
  {
   "cell_type": "markdown",
   "metadata": {},
   "source": [
    "```sh\n",
    "from qgoferutils.config import QGoferConfig, create_config_table\n",
    "```"
   ]
  },
  {
   "cell_type": "markdown",
   "metadata": {},
   "source": [
    "- Database Module"
   ]
  },
  {
   "cell_type": "markdown",
   "metadata": {},
   "source": [
    "```sh\n",
    "from qgoferutils.db import QGoferDBWrapper\n",
    "```"
   ]
  },
  {
   "cell_type": "markdown",
   "metadata": {},
   "source": [
    "- Logger Module"
   ]
  },
  {
   "cell_type": "markdown",
   "metadata": {},
   "source": [
    "```sh\n",
    "from qgoferutils.logger import get_logger, get_log_path\n",
    "```"
   ]
  },
  {
   "cell_type": "markdown",
   "metadata": {},
   "source": [
    "- Requests Module"
   ]
  },
  {
   "cell_type": "markdown",
   "metadata": {},
   "source": [
    "```sh\n",
    "from qgoferutils.requests import make_api_request, get_failed_response\n",
    "```"
   ]
  },
  {
   "cell_type": "markdown",
   "metadata": {},
   "source": [
    "- Utility Functions Module"
   ]
  },
  {
   "cell_type": "markdown",
   "metadata": {},
   "source": [
    "```sh\n",
    "from qgoferutils import get_env_var, generate_uuid, init_path\n",
    "```"
   ]
  },
  {
   "cell_type": "markdown",
   "metadata": {},
   "source": [
    "### Code Snippets or Examples"
   ]
  },
  {
   "cell_type": "code",
   "execution_count": null,
   "metadata": {},
   "outputs": [
    {
     "name": "stdout",
     "output_type": "stream",
     "text": [
      "Requirement already satisfied: qgoferutils in c:\\users\\admi\\miniconda3\\envs\\env4\\lib\\site-packages (0.0.7)\n",
      "Requirement already satisfied: orjson in c:\\users\\admi\\miniconda3\\envs\\env4\\lib\\site-packages (from qgoferutils) (3.9.10)\n",
      "Requirement already satisfied: requests in c:\\users\\admi\\miniconda3\\envs\\env4\\lib\\site-packages (from qgoferutils) (2.31.0)\n",
      "Requirement already satisfied: aiofiles in c:\\users\\admi\\miniconda3\\envs\\env4\\lib\\site-packages (from qgoferutils) (22.1.0)\n",
      "Requirement already satisfied: charset-normalizer<4,>=2 in c:\\users\\admi\\miniconda3\\envs\\env4\\lib\\site-packages (from requests->qgoferutils) (2.0.4)\n",
      "Requirement already satisfied: idna<4,>=2.5 in c:\\users\\admi\\miniconda3\\envs\\env4\\lib\\site-packages (from requests->qgoferutils) (3.4)\n",
      "Requirement already satisfied: urllib3<3,>=1.21.1 in c:\\users\\admi\\miniconda3\\envs\\env4\\lib\\site-packages (from requests->qgoferutils) (2.1.0)\n",
      "Requirement already satisfied: certifi>=2017.4.17 in c:\\users\\admi\\miniconda3\\envs\\env4\\lib\\site-packages (from requests->qgoferutils) (2024.2.2)\n",
      "Note: you may need to restart the kernel to use updated packages.\n"
     ]
    }
   ],
   "source": [
    "pip install qgoferutils"
   ]
  },
  {
   "cell_type": "markdown",
   "metadata": {},
   "source": [
    "#### Example 1: Configuring QGofer"
   ]
  },
  {
   "cell_type": "code",
   "execution_count": null,
   "metadata": {},
   "outputs": [
    {
     "name": "stdout",
     "output_type": "stream",
     "text": [
      "2024-03-09 18:57:17,308 - qgofer - INFO - Logging to C:\\Users\\admi\\.qgofer\\logs/W87gwqBURyOma4QkPG6L2g_log_24_03_09_18_57_17.log\n",
      "Home directory: C:\\Users\\admi\n",
      "Root directory: C:\\Users\\admi\n"
     ]
    }
   ],
   "source": [
    "from qgoferutils.config import QGoferConfig, create_config_table\n",
    "\n",
    "# Create a QGoferConfig instance\n",
    "config_instance = QGoferConfig()\n",
    "\n",
    "# Accessing attributes of QGoferConfig\n",
    "print(\"Home directory:\", config_instance.home)\n",
    "print(\"Root directory:\", config_instance.root_dir)"
   ]
  },
  {
   "cell_type": "markdown",
   "metadata": {},
   "source": [
    "#### Example 2: Interacting with the Database"
   ]
  },
  {
   "cell_type": "code",
   "execution_count": null,
   "metadata": {},
   "outputs": [],
   "source": [
    "from qgoferutils.db import QGoferDBWrapper\n",
    "\n",
    "# Initialize QGoferDBWrapper with a specific database path\n",
    "db_wrapper = QGoferDBWrapper(\"C:/data/dbb\")"
   ]
  },
  {
   "cell_type": "markdown",
   "metadata": {},
   "source": [
    "#### Example 3: Logging in QGofer"
   ]
  },
  {
   "cell_type": "code",
   "execution_count": null,
   "metadata": {},
   "outputs": [
    {
     "name": "stdout",
     "output_type": "stream",
     "text": [
      "2024-03-09 18:57:17,500 - qgofer - DEBUG - Debug message\n",
      "Log path: C:\\Users\\admi\\saf-app\\qgofertext\\nbs\n"
     ]
    }
   ],
   "source": [
    "from qgoferutils.logger import get_logger, get_log_path\n",
    "\n",
    "# Get a logger with a specified log path\n",
    "logger = get_logger(\"C:/data/db\")\n",
    "logger.debug(\"Debug message\")\n",
    "\n",
    "# Get the log path\n",
    "log_path = get_log_path(\"\")\n",
    "print(\"Log path:\", log_path)"
   ]
  },
  {
   "cell_type": "markdown",
   "metadata": {},
   "source": [
    "#### Example 4: Making API Requests"
   ]
  },
  {
   "cell_type": "code",
   "execution_count": null,
   "metadata": {},
   "outputs": [],
   "source": [
    "!pip install nest_asyncio"
   ]
  },
  {
   "cell_type": "code",
   "execution_count": null,
   "metadata": {},
   "outputs": [
    {
     "name": "stdout",
     "output_type": "stream",
     "text": [
      "API Response: <Response [200]>\n"
     ]
    }
   ],
   "source": [
    "import nest_asyncio\n",
    "from qgoferutils.requests import make_api_request, get_failed_response\n",
    "\n",
    "nest_asyncio.apply()\n",
    "\n",
    "async def main():\n",
    "    # Make an API request to https://httpbin.org/get asynchronously\n",
    "    api_url = \"https://httpbin.org/get\"\n",
    "    response = await make_api_request(api_url)\n",
    "    print(\"API Response:\", response)\n",
    "\n",
    "# Run the event loop\n",
    "asyncio.run(main())"
   ]
  }
 ],
 "metadata": {
  "kernelspec": {
   "display_name": "python3",
   "language": "python",
   "name": "python3"
  }
 },
 "nbformat": 4,
 "nbformat_minor": 4
}
