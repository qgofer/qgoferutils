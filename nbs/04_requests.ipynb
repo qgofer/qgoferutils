{
 "cells": [
  {
   "cell_type": "markdown",
   "metadata": {},
   "source": [
    "# requests\n",
    "\n",
    "> This module provides a wrapper for making API requests"
   ]
  },
  {
   "cell_type": "code",
   "execution_count": null,
   "metadata": {},
   "outputs": [],
   "source": [
    "# | default_exp requests"
   ]
  },
  {
   "cell_type": "code",
   "execution_count": null,
   "metadata": {},
   "outputs": [],
   "source": [
    "# | hide\n",
    "import nbdev\n",
    "from nbdev.showdoc import *"
   ]
  },
  {
   "cell_type": "code",
   "execution_count": null,
   "metadata": {},
   "outputs": [],
   "source": [
    "\n",
    "# | export\n",
    "import requests\n",
    "import orjson\n",
    "from requests.adapters import HTTPAdapter\n",
    "from urllib3.util.retry import Retry\n",
    "\n",
    "try:\n",
    "    from qgoferutils.logger import get_logger\n",
    "except:\n",
    "    pass"
   ]
  },
  {
   "cell_type": "code",
   "execution_count": null,
   "metadata": {},
   "outputs": [
    {
     "name": "stdout",
     "output_type": "stream",
     "text": [
      "Requirement already satisfied: orjson in c:\\users\\acqua\\miniconda3\\envs\\qgoferutils\\lib\\site-packages (3.9.15)\n",
      "Requirement already satisfied: requests in c:\\users\\acqua\\miniconda3\\envs\\qgoferutils\\lib\\site-packages (2.31.0)\n",
      "Requirement already satisfied: charset-normalizer<4,>=2 in c:\\users\\acqua\\miniconda3\\envs\\qgoferutils\\lib\\site-packages (from requests) (3.3.2)\n",
      "Requirement already satisfied: idna<4,>=2.5 in c:\\users\\acqua\\miniconda3\\envs\\qgoferutils\\lib\\site-packages (from requests) (3.6)\n",
      "Requirement already satisfied: urllib3<3,>=1.21.1 in c:\\users\\acqua\\miniconda3\\envs\\qgoferutils\\lib\\site-packages (from requests) (2.2.1)\n",
      "Requirement already satisfied: certifi>=2017.4.17 in c:\\users\\acqua\\miniconda3\\envs\\qgoferutils\\lib\\site-packages (from requests) (2024.2.2)\n"
     ]
    }
   ],
   "source": [
    "# | hide\n",
    "%run 00_core.ipynb"
   ]
  },
  {
   "cell_type": "code",
   "execution_count": null,
   "metadata": {},
   "outputs": [],
   "source": [
    "# | export\n",
    "\n",
    "\n",
    "def get_failed_response(\n",
    "    error_message=\"Some kind of API error ccured while interacting with the given URL\",\n",
    ") -> requests.Response:\n",
    "    failed_response = requests.Response()\n",
    "    failed_response.status_code = 500\n",
    "    failed_response.reason = error_message\n",
    "    failed_response._content = orjson.dumps({\"message\": f\"{error_message}\"})\n",
    "    return failed_response\n",
    "\n",
    "\n",
    "async def make_api_request(\n",
    "    url: str,\n",
    "    http_method: str = \"GET\",\n",
    "    headers: dict = {},\n",
    "    data: dict = {},\n",
    "    auth: tuple = (),\n",
    "    cookies: dict = {},\n",
    "    params: dict = {},\n",
    ") -> requests.Response:\n",
    "    \"\"\"Makes an API request to the given url with the given parameters.\"\"\"\n",
    "    if not all(headers.values()):\n",
    "        return get_failed_response()\n",
    "    s = requests.Session()\n",
    "    retries = Retry(\n",
    "        total=10,\n",
    "        backoff_factor=0.1,\n",
    "        status_forcelist=[403, 406, 408, 413, 429, 500, 502, 503, 504],\n",
    "    )\n",
    "    s.mount(\"https://\", HTTPAdapter(max_retries=retries))\n",
    "    s.mount(\"http://\", HTTPAdapter(max_retries=retries))\n",
    "\n",
    "    try:\n",
    "        req = requests.Request(\n",
    "            http_method,\n",
    "            url,\n",
    "            data=data,\n",
    "            headers=headers,\n",
    "            auth=auth,\n",
    "            cookies=cookies,\n",
    "            params=params,\n",
    "        )\n",
    "        prepped = req.prepare()\n",
    "        resp = s.send(prepped)\n",
    "        return resp\n",
    "    except Exception as e:\n",
    "        get_logger().error(f\"Connection error while fetching data {e}\")\n",
    "        return get_failed_response()"
   ]
  },
  {
   "cell_type": "code",
   "execution_count": null,
   "metadata": {},
   "outputs": [],
   "source": [
    "#| hide\n",
    "nbdev.nbdev_export()"
   ]
  },
  {
   "cell_type": "code",
   "execution_count": null,
   "metadata": {},
   "outputs": [],
   "source": []
  }
 ],
 "metadata": {
  "kernelspec": {
   "display_name": "python3",
   "language": "python",
   "name": "python3"
  }
 },
 "nbformat": 4,
 "nbformat_minor": 4
}
