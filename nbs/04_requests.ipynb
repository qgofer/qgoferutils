{
 "cells": [
  {
   "cell_type": "markdown",
   "metadata": {},
   "source": [
    "# requests\n",
    "\n",
    "> This module provides a wrapper for interating with SQLite Database(Chosen datastore for qgofer)"
   ]
  },
  {
   "cell_type": "code",
   "execution_count": 14,
   "metadata": {},
   "outputs": [],
   "source": [
    "#| default_exp requests"
   ]
  },
  {
   "cell_type": "code",
   "execution_count": 1,
   "metadata": {},
   "outputs": [],
   "source": [
    "#| hide\n",
    "from nbdev.showdoc import *"
   ]
  },
  {
   "cell_type": "code",
   "execution_count": 3,
   "metadata": {},
   "outputs": [
    {
     "name": "stdout",
     "output_type": "stream",
     "text": [
      "Requirement already satisfied: orjson in /opt/miniconda3/envs/qgoferutils/lib/python3.12/site-packages (3.9.10)\n",
      "Note: you may need to restart the kernel to use updated packages.\n",
      "Requirement already satisfied: requests in /opt/miniconda3/envs/qgoferutils/lib/python3.12/site-packages (2.31.0)\n",
      "Requirement already satisfied: charset-normalizer<4,>=2 in /opt/miniconda3/envs/qgoferutils/lib/python3.12/site-packages (from requests) (2.0.4)\n",
      "Requirement already satisfied: idna<4,>=2.5 in /opt/miniconda3/envs/qgoferutils/lib/python3.12/site-packages (from requests) (3.4)\n",
      "Requirement already satisfied: urllib3<3,>=1.21.1 in /opt/miniconda3/envs/qgoferutils/lib/python3.12/site-packages (from requests) (2.1.0)\n",
      "Requirement already satisfied: certifi>=2017.4.17 in /opt/miniconda3/envs/qgoferutils/lib/python3.12/site-packages (from requests) (2024.2.2)\n",
      "Note: you may need to restart the kernel to use updated packages.\n"
     ]
    }
   ],
   "source": [
    "#| hide\n",
    "%run 00_core.ipynb"
   ]
  },
  {
   "cell_type": "code",
   "execution_count": 4,
   "metadata": {},
   "outputs": [],
   "source": [
    "#| export\n",
    "import requests\n",
    "from requests.adapters import HTTPAdapter\n",
    "from urllib3.util.retry import Retry"
   ]
  },
  {
   "cell_type": "code",
   "execution_count": 7,
   "metadata": {},
   "outputs": [],
   "source": [
    "#| export\n",
    "def get_failed_response(\n",
    "    error_message=\"Some kind of API error ccured while interacting with the given URL\",\n",
    ") -> requests.Response:\n",
    "    failed_response = requests.Response()\n",
    "    failed_response.status_code = 500\n",
    "    failed_response.reason = error_message\n",
    "    failed_response._content = orjson.dumps({\"message\": f\"{error_message}\"})\n",
    "    return failed_response\n",
    "\n",
    "\n",
    "async def make_api_request(\n",
    "    url: str,\n",
    "    http_method: str = \"GET\",\n",
    "    headers: dict = {},\n",
    "    data: dict = {},\n",
    "    auth: tuple = (),\n",
    "    cookies: dict = {},\n",
    "    params: dict = {},\n",
    ") -> requests.Response:\n",
    "    \"\"\"Makes an API request to the given url with the given parameters.\"\"\"\n",
    "    if not all(headers.values()):\n",
    "        return get_failed_response()\n",
    "    s = requests.Session()\n",
    "    retries = Retry(\n",
    "        total=10,\n",
    "        backoff_factor=0.1,\n",
    "        status_forcelist=[403, 406, 408, 413, 429, 500, 502, 503, 504],\n",
    "    )\n",
    "    s.mount(\"https://\", HTTPAdapter(max_retries=retries))\n",
    "    s.mount(\"http://\", HTTPAdapter(max_retries=retries))\n",
    "\n",
    "    try:\n",
    "        req = requests.Request(\n",
    "            http_method,\n",
    "            url,\n",
    "            data=data,\n",
    "            headers=headers,\n",
    "            auth=auth,\n",
    "            cookies=cookies,\n",
    "            params=params,\n",
    "        )\n",
    "        prepped = req.prepare()\n",
    "        resp = s.send(prepped)\n",
    "        return resp\n",
    "    except Exception as e:\n",
    "        get_logger().error(\"Connection error while fetching data {}\".format(e))\n",
    "        return get_failed_response()\n"
   ]
  },
  {
   "cell_type": "code",
   "execution_count": 6,
   "metadata": {},
   "outputs": [],
   "source": [
    "#| hide\n",
    "import nbdev; nbdev.nbdev_export()"
   ]
  },
  {
   "cell_type": "code",
   "execution_count": null,
   "metadata": {},
   "outputs": [],
   "source": []
  }
 ],
 "metadata": {
  "kernelspec": {
   "display_name": "Python 3 (ipykernel)",
   "language": "python",
   "name": "python3"
  },
  "language_info": {
   "codemirror_mode": {
    "name": "ipython",
    "version": 3
   },
   "file_extension": ".py",
   "mimetype": "text/x-python",
   "name": "python",
   "nbconvert_exporter": "python",
   "pygments_lexer": "ipython3",
   "version": "3.9.18"
  }
 },
 "nbformat": 4,
 "nbformat_minor": 4
}
